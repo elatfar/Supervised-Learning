{
 "cells": [
  {
   "cell_type": "code",
   "execution_count": 46,
   "metadata": {},
   "outputs": [],
   "source": [
    "from sklearn import datasets\n",
    "\n",
    "iris = datasets.load_iris()\n",
    "X = iris.data\n",
    "Y = iris.target"
   ]
  },
  {
   "cell_type": "code",
   "execution_count": 47,
   "metadata": {},
   "outputs": [],
   "source": [
    "from sklearn.model_selection import train_test_split\n",
    "\n",
    "x_train,x_test,y_train,y_test=train_test_split(X,Y,random_state=0,test_size=0.3)"
   ]
  },
  {
   "cell_type": "code",
   "execution_count": 48,
   "metadata": {},
   "outputs": [
    {
     "data": {
      "text/plain": [
       "LinearRegression(copy_X=True, fit_intercept=True, n_jobs=None, normalize=False)"
      ]
     },
     "execution_count": 48,
     "metadata": {},
     "output_type": "execute_result"
    }
   ],
   "source": [
    "from sklearn.linear_model import LinearRegression\n",
    "\n",
    "clf_lr = LinearRegression()\n",
    "clf_lr.fit(x_train,y_train)"
   ]
  },
  {
   "cell_type": "code",
   "execution_count": 49,
   "metadata": {},
   "outputs": [
    {
     "data": {
      "text/plain": [
       "<matplotlib.collections.PathCollection at 0x7ff215e12c50>"
      ]
     },
     "execution_count": 49,
     "metadata": {},
     "output_type": "execute_result"
    },
    {
     "data": {
      "image/png": "[encoded data removed]",
      "text/plain": [
       "<Figure size 432x288 with 1 Axes>"
      ]
     },
     "metadata": {
      "needs_background": "light"
     },
     "output_type": "display_data"
    }
   ],
   "source": [
    "import seaborn as sns\n",
    "import matplotlib.pyplot as plt  \n",
    "\n",
    "predictions = clf_lr.predict(x_test)\n",
    "plt.scatter(y_test,predictions)"
   ]
  },
  {
   "cell_type": "code",
   "execution_count": 50,
   "metadata": {},
   "outputs": [
    {
     "data": {
      "text/html": [
       "<div>\n",
       "<style scoped>\n",
       "    .dataframe tbody tr th:only-of-type {\n",
       "        vertical-align: middle;\n",
       "    }\n",
       "\n",
       "    .dataframe tbody tr th {\n",
       "        vertical-align: top;\n",
       "    }\n",
       "\n",
       "    .dataframe thead th {\n",
       "        text-align: right;\n",
       "    }\n",
       "</style>\n",
       "<table border=\"1\" class=\"dataframe\">\n",
       "  <thead>\n",
       "    <tr style=\"text-align: right;\">\n",
       "      <th></th>\n",
       "      <th>Coefficient</th>\n",
       "    </tr>\n",
       "  </thead>\n",
       "  <tbody>\n",
       "    <tr>\n",
       "      <th>sepal length (cm)</th>\n",
       "      <td>-0.170094</td>\n",
       "    </tr>\n",
       "    <tr>\n",
       "      <th>sepal width (cm)</th>\n",
       "      <td>-0.018566</td>\n",
       "    </tr>\n",
       "    <tr>\n",
       "      <th>petal length (cm)</th>\n",
       "      <td>0.279002</td>\n",
       "    </tr>\n",
       "    <tr>\n",
       "      <th>petal width (cm)</th>\n",
       "      <td>0.560613</td>\n",
       "    </tr>\n",
       "  </tbody>\n",
       "</table>\n",
       "</div>"
      ],
      "text/plain": [
       "                   Coefficient\n",
       "sepal length (cm)    -0.170094\n",
       "sepal width (cm)     -0.018566\n",
       "petal length (cm)     0.279002\n",
       "petal width (cm)      0.560613"
      ]
     },
     "execution_count": 50,
     "metadata": {},
     "output_type": "execute_result"
    }
   ],
   "source": [
    "import pandas as pd\n",
    "\n",
    "coeff_df = pd.DataFrame(clf_lr.coef_,iris.feature_names,columns=['Coefficient'])\n",
    "coeff_df"
   ]
  },
  {
   "cell_type": "code",
   "execution_count": 51,
   "metadata": {},
   "outputs": [
    {
     "data": {
      "text/plain": [
       "0.3501722420686384"
      ]
     },
     "execution_count": 51,
     "metadata": {},
     "output_type": "execute_result"
    }
   ],
   "source": [
    "clf_lr.intercept_"
   ]
  },
  {
   "cell_type": "code",
   "execution_count": 52,
   "metadata": {},
   "outputs": [
    {
     "name": "stdout",
     "output_type": "stream",
     "text": [
      "0.3501722420686384 -0.17009418265222548 -0.018566210773940328 0.27900206419721973 0.5606127430964811\n"
     ]
    }
   ],
   "source": [
    "b0 = clf_lr.intercept_\n",
    "b1 = clf_lr.coef_[0]\n",
    "b2 = clf_lr.coef_[1]\n",
    "b3 = clf_lr.coef_[2]\n",
    "b4 = clf_lr.coef_[3]\n",
    "print(b0,b1,b2,b3,b4)"
   ]
  },
  {
   "cell_type": "code",
   "execution_count": 59,
   "metadata": {},
   "outputs": [
    {
     "name": "stdout",
     "output_type": "stream",
     "text": [
      "[[5.1 3.5 1.4 0.2]\n",
      " [4.9 3.  1.4 0.2]\n",
      " [4.7 3.2 1.3 0.2]\n",
      " [4.6 3.1 1.5 0.2]\n",
      " [5.  3.6 1.4 0.2]]\n",
      "[0 0 0 0 0]\n"
     ]
    }
   ],
   "source": [
    "print(X[0:5])\n",
    "print(Y[0:5])"
   ]
  },
  {
   "cell_type": "code",
   "execution_count": 60,
   "metadata": {},
   "outputs": [
    {
     "name": "stdout",
     "output_type": "stream",
     "text": [
      "-0.07956438867109876\n",
      "-0.03626244675368366\n",
      "-0.033857058797748515\n",
      "0.04080939338431201\n",
      "-0.0644115914832704\n"
     ]
    }
   ],
   "source": [
    "for i in X[0:5]:\n",
    "    print(b0+b1*i[0]+b2*i[1]+b3*i[2]+b4*i[3])"
   ]
  },
  {
   "cell_type": "markdown",
   "metadata": {},
   "source": [
    "Uji coba dengan persamaan berikut :\n",
    "\n",
    "## $$ y = b_0 + b_1x_1 $$"
   ]
  },
  {
   "cell_type": "code",
   "execution_count": 55,
   "metadata": {},
   "outputs": [],
   "source": [
    "y_result = []\n",
    "count = 0\n",
    "for i in X:\n",
    "    y_result.append(b0+b1*i[0]+b2*i[1]+b3*i[2]+b4*i[3])\n",
    "    count +=1"
   ]
  },
  {
   "cell_type": "code",
   "execution_count": 62,
   "metadata": {},
   "outputs": [
    {
     "data": {
      "text/plain": [
       "array([[-7.95643887e-02,  0.00000000e+00],\n",
       "       [-3.62624468e-02,  0.00000000e+00],\n",
       "       [-3.38570588e-02,  0.00000000e+00],\n",
       "       [ 4.08093934e-02,  0.00000000e+00],\n",
       "       [-6.44115915e-02,  0.00000000e+00],\n",
       "       [ 5.78040401e-02,  0.00000000e+00],\n",
       "       [ 6.34005980e-02,  0.00000000e+00],\n",
       "       [-3.27981429e-02,  0.00000000e+00],\n",
       "       [ 5.06412656e-02,  0.00000000e+00],\n",
       "       [-6.62801357e-02,  0.00000000e+00],\n",
       "       [-1.06405679e-01,  0.00000000e+00],\n",
       "       [ 2.91209000e-02,  0.00000000e+00],\n",
       "       [-7.53143028e-02,  0.00000000e+00],\n",
       "       [-7.39678307e-02,  0.00000000e+00],\n",
       "       [-2.63713835e-01,  0.00000000e+00],\n",
       "       [-5.83077329e-02,  0.00000000e+00],\n",
       "       [-5.37967856e-02,  0.00000000e+00],\n",
       "       [-2.35031144e-02,  0.00000000e+00],\n",
       "       [-4.74288679e-02,  0.00000000e+00],\n",
       "       [-1.17277117e-03,  0.00000000e+00],\n",
       "       [-4.50354031e-02,  0.00000000e+00],\n",
       "       [ 5.67451242e-02,  0.00000000e+00],\n",
       "       [-1.07974744e-01,  0.00000000e+00],\n",
       "       [ 1.76033296e-01,  0.00000000e+00],\n",
       "       [ 1.12821519e-01,  0.00000000e+00],\n",
       "       [ 2.52854782e-03,  0.00000000e+00],\n",
       "       [ 1.07224612e-01,  0.00000000e+00],\n",
       "       [-6.86736005e-02,  0.00000000e+00],\n",
       "       [-9.47171859e-02,  0.00000000e+00],\n",
       "       [ 4.98435605e-02,  0.00000000e+00],\n",
       "       [ 3.46907633e-02,  0.00000000e+00],\n",
       "       [ 1.12867326e-02,  0.00000000e+00],\n",
       "       [-1.35874601e-01,  0.00000000e+00],\n",
       "       [-1.60598409e-01,  0.00000000e+00],\n",
       "       [-1.02188614e-02,  0.00000000e+00],\n",
       "       [-1.12785520e-01,  0.00000000e+00],\n",
       "       [-1.75502268e-01,  0.00000000e+00],\n",
       "       [-1.03463448e-01,  0.00000000e+00],\n",
       "       [ 2.08844382e-02,  0.00000000e+00],\n",
       "       [-4.98075612e-02,  0.00000000e+00],\n",
       "       [-3.43939025e-02,  0.00000000e+00],\n",
       "       [ 7.29326417e-02,  0.00000000e+00],\n",
       "       [ 1.71711960e-02,  0.00000000e+00],\n",
       "       [ 2.17490540e-01,  0.00000000e+00],\n",
       "       [ 1.66489329e-01,  0.00000000e+00],\n",
       "       [ 3.68082458e-02,  0.00000000e+00],\n",
       "       [-2.93338391e-02,  0.00000000e+00],\n",
       "       [ 1.10525659e-02,  0.00000000e+00],\n",
       "       [-8.93962609e-02,  0.00000000e+00],\n",
       "       [-5.88417283e-02,  0.00000000e+00],\n",
       "       [ 1.19626863e+00,  1.00000000e+00],\n",
       "       [ 1.29858600e+00,  1.00000000e+00],\n",
       "       [ 1.32699636e+00,  1.00000000e+00],\n",
       "       [ 1.21675678e+00,  1.00000000e+00],\n",
       "       [ 1.31690327e+00,  1.00000000e+00],\n",
       "       [ 1.31295587e+00,  1.00000000e+00],\n",
       "       [ 1.42560049e+00,  1.00000000e+00],\n",
       "       [ 9.53471396e-01,  1.00000000e+00],\n",
       "       [ 1.18591469e+00,  1.00000000e+00],\n",
       "       [ 1.28851961e+00,  1.00000000e+00],\n",
       "       [ 9.99688875e-01,  1.00000000e+00],\n",
       "       [ 1.30364572e+00,  1.00000000e+00],\n",
       "       [ 9.65382482e-01,  1.00000000e+00],\n",
       "       [ 1.35492326e+00,  1.00000000e+00],\n",
       "       [ 1.07700681e+00,  1.00000000e+00],\n",
       "       [ 1.16545289e+00,  1.00000000e+00],\n",
       "       [ 1.43837459e+00,  1.00000000e+00],\n",
       "       [ 1.01801842e+00,  1.00000000e+00],\n",
       "       [ 1.35117105e+00,  1.00000000e+00],\n",
       "       [ 1.05601136e+00,  1.00000000e+00],\n",
       "       [ 1.63551754e+00,  1.00000000e+00],\n",
       "       [ 1.10541716e+00,  1.00000000e+00],\n",
       "       [ 1.44019259e+00,  1.00000000e+00],\n",
       "       [ 1.24465733e+00,  1.00000000e+00],\n",
       "       [ 1.13623290e+00,  1.00000000e+00],\n",
       "       [ 1.18431893e+00,  1.00000000e+00],\n",
       "       [ 1.26561416e+00,  1.00000000e+00],\n",
       "       [ 1.50289457e+00,  1.00000000e+00],\n",
       "       [ 1.37219354e+00,  1.00000000e+00],\n",
       "       [ 8.69483221e-01,  1.00000000e+00],\n",
       "       [ 1.04697719e+00,  1.00000000e+00],\n",
       "       [ 9.63015712e-01,  1.00000000e+00],\n",
       "       [ 1.07434056e+00,  1.00000000e+00],\n",
       "       [ 1.59936929e+00,  1.00000000e+00],\n",
       "       [ 1.47239343e+00,  1.00000000e+00],\n",
       "       [ 1.41897171e+00,  1.00000000e+00],\n",
       "       [ 1.30521478e+00,  1.00000000e+00],\n",
       "       [ 1.19228226e+00,  1.00000000e+00],\n",
       "       [ 1.21465122e+00,  1.00000000e+00],\n",
       "       [ 1.21304353e+00,  1.00000000e+00],\n",
       "       [ 1.26672646e+00,  1.00000000e+00],\n",
       "       [ 1.32516643e+00,  1.00000000e+00],\n",
       "       [ 1.10409738e+00,  1.00000000e+00],\n",
       "       [ 9.38318599e-01,  1.00000000e+00],\n",
       "       [ 1.24812129e+00,  1.00000000e+00],\n",
       "       [ 1.16948073e+00,  1.00000000e+00],\n",
       "       [ 1.22739863e+00,  1.00000000e+00],\n",
       "       [ 1.17025174e+00,  1.00000000e+00],\n",
       "       [ 8.89956594e-01,  1.00000000e+00],\n",
       "       [ 1.20135504e+00,  1.00000000e+00],\n",
       "       [ 2.29285464e+00,  2.00000000e+00],\n",
       "       [ 1.80157195e+00,  2.00000000e+00],\n",
       "       [ 1.91020385e+00,  2.00000000e+00],\n",
       "       [ 1.79625138e+00,  2.00000000e+00],\n",
       "       [ 2.04042143e+00,  2.00000000e+00],\n",
       "       [ 2.02045821e+00,  2.00000000e+00],\n",
       "       [ 1.67884617e+00,  2.00000000e+00],\n",
       "       [ 1.82145864e+00,  2.00000000e+00],\n",
       "       [ 1.79144060e+00,  2.00000000e+00],\n",
       "       [ 2.16210022e+00,  2.00000000e+00],\n",
       "       [ 1.72928419e+00,  2.00000000e+00],\n",
       "       [ 1.75531586e+00,  2.00000000e+00],\n",
       "       [ 1.84963128e+00,  2.00000000e+00],\n",
       "       [ 1.85045568e+00,  2.00000000e+00],\n",
       "       [ 2.08002170e+00,  2.00000000e+00],\n",
       "       [ 1.97027785e+00,  2.00000000e+00],\n",
       "       [ 1.73247571e+00,  2.00000000e+00],\n",
       "       [ 2.07255730e+00,  2.00000000e+00],\n",
       "       [ 2.20669844e+00,  2.00000000e+00],\n",
       "       [ 1.52469092e+00,  2.00000000e+00],\n",
       "       [ 1.99683158e+00,  2.00000000e+00],\n",
       "       [ 1.83399503e+00,  2.00000000e+00],\n",
       "       [ 1.97900096e+00,  2.00000000e+00],\n",
       "       [ 1.60466317e+00,  2.00000000e+00],\n",
       "       [ 1.91687125e+00,  2.00000000e+00],\n",
       "       [ 1.74919758e+00,  2.00000000e+00],\n",
       "       [ 1.59191577e+00,  2.00000000e+00],\n",
       "       [ 1.63311215e+00,  2.00000000e+00],\n",
       "       [ 1.94928240e+00,  2.00000000e+00],\n",
       "       [ 1.58498786e+00,  2.00000000e+00],\n",
       "       [ 1.80656670e+00,  2.00000000e+00],\n",
       "       [ 1.84271530e+00,  2.00000000e+00],\n",
       "       [ 2.00534368e+00,  2.00000000e+00],\n",
       "       [ 1.49042314e+00,  2.00000000e+00],\n",
       "       [ 1.61159498e+00,  2.00000000e+00],\n",
       "       [ 1.97607030e+00,  2.00000000e+00],\n",
       "       [ 2.12333592e+00,  2.00000000e+00],\n",
       "       [ 1.74762851e+00,  2.00000000e+00],\n",
       "       [ 1.62222136e+00,  2.00000000e+00],\n",
       "       [ 1.80286504e+00,  2.00000000e+00],\n",
       "       [ 2.06086811e+00,  2.00000000e+00],\n",
       "       [ 1.83128696e+00,  2.00000000e+00],\n",
       "       [ 1.80157195e+00,  2.00000000e+00],\n",
       "       [ 2.06964141e+00,  2.00000000e+00],\n",
       "       [ 2.14111635e+00,  2.00000000e+00],\n",
       "       [ 1.89506263e+00,  2.00000000e+00],\n",
       "       [ 1.69233790e+00,  2.00000000e+00],\n",
       "       [ 1.76089764e+00,  2.00000000e+00],\n",
       "       [ 2.02848365e+00,  2.00000000e+00],\n",
       "       [ 1.72293140e+00,  2.00000000e+00]])"
      ]
     },
     "execution_count": 62,
     "metadata": {},
     "output_type": "execute_result"
    }
   ],
   "source": [
    "import numpy as np\n",
    "\n",
    "np.c_[y_result, iris.target]"
   ]
  },
  {
   "cell_type": "code",
   "execution_count": 57,
   "metadata": {},
   "outputs": [
    {
     "data": {
      "text/html": [
       "<div>\n",
       "<style scoped>\n",
       "    .dataframe tbody tr th:only-of-type {\n",
       "        vertical-align: middle;\n",
       "    }\n",
       "\n",
       "    .dataframe tbody tr th {\n",
       "        vertical-align: top;\n",
       "    }\n",
       "\n",
       "    .dataframe thead th {\n",
       "        text-align: right;\n",
       "    }\n",
       "</style>\n",
       "<table border=\"1\" class=\"dataframe\">\n",
       "  <thead>\n",
       "    <tr style=\"text-align: right;\">\n",
       "      <th></th>\n",
       "      <th>Y Predict</th>\n",
       "      <th>Y Actual</th>\n",
       "    </tr>\n",
       "  </thead>\n",
       "  <tbody>\n",
       "    <tr>\n",
       "      <th>0</th>\n",
       "      <td>-0.079564</td>\n",
       "      <td>0.0</td>\n",
       "    </tr>\n",
       "    <tr>\n",
       "      <th>1</th>\n",
       "      <td>-0.036262</td>\n",
       "      <td>0.0</td>\n",
       "    </tr>\n",
       "    <tr>\n",
       "      <th>2</th>\n",
       "      <td>-0.033857</td>\n",
       "      <td>0.0</td>\n",
       "    </tr>\n",
       "    <tr>\n",
       "      <th>3</th>\n",
       "      <td>0.040809</td>\n",
       "      <td>0.0</td>\n",
       "    </tr>\n",
       "    <tr>\n",
       "      <th>4</th>\n",
       "      <td>-0.064412</td>\n",
       "      <td>0.0</td>\n",
       "    </tr>\n",
       "  </tbody>\n",
       "</table>\n",
       "</div>"
      ],
      "text/plain": [
       "   Y Predict  Y Actual\n",
       "0  -0.079564       0.0\n",
       "1  -0.036262       0.0\n",
       "2  -0.033857       0.0\n",
       "3   0.040809       0.0\n",
       "4  -0.064412       0.0"
      ]
     },
     "execution_count": 57,
     "metadata": {},
     "output_type": "execute_result"
    }
   ],
   "source": [
    "df_prf = pd.DataFrame(data=np.c_[y_result,iris.target],\n",
    "                     columns=['Y Predict','Y Actual'])\n",
    "\n",
    "df_prf.head()"
   ]
  },
  {
   "cell_type": "code",
   "execution_count": 66,
   "metadata": {},
   "outputs": [],
   "source": [
    "y_predict = []\n",
    "for x in y_result:\n",
    "    y_predict.append(abs(round(x)))"
   ]
  },
  {
   "cell_type": "code",
   "execution_count": 69,
   "metadata": {},
   "outputs": [
    {
     "name": "stdout",
     "output_type": "stream",
     "text": [
      "[[50  0  0]\n",
      " [ 0 47  1]\n",
      " [ 0  3 49]]\n",
      "              precision    recall  f1-score   support\n",
      "\n",
      "         0.0       1.00      1.00      1.00        50\n",
      "         1.0       0.94      0.98      0.96        48\n",
      "         2.0       0.98      0.94      0.96        52\n",
      "\n",
      "    accuracy                           0.97       150\n",
      "   macro avg       0.97      0.97      0.97       150\n",
      "weighted avg       0.97      0.97      0.97       150\n",
      "\n"
     ]
    }
   ],
   "source": [
    "from sklearn.metrics import confusion_matrix,classification_report\n",
    "\n",
    "print(confusion_matrix(y_predict,Y))\n",
    "print(classification_report(y_predict,Y))"
   ]
  },
  {
   "cell_type": "code",
   "execution_count": null,
   "metadata": {},
   "outputs": [],
   "source": []
  }
 ],
 "metadata": {
  "kernelspec": {
   "display_name": "Python 3",
   "language": "python",
   "name": "python3"
  },
  "language_info": {
   "codemirror_mode": {
    "name": "ipython",
    "version": 3
   },
   "file_extension": ".py",
   "mimetype": "text/x-python",
   "name": "python",
   "nbconvert_exporter": "python",
   "pygments_lexer": "ipython3",
   "version": "3.6.9"
  }
 },
 "nbformat": 4,
 "nbformat_minor": 4
}
