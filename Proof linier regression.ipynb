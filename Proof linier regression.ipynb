{
 "cells": [
  {
   "cell_type": "code",
   "execution_count": 1,
   "metadata": {},
   "outputs": [],
   "source": [
    "from sklearn import datasets\n",
    "\n",
    "iris = datasets.load_iris()\n",
    "X = iris.data\n",
    "Y = iris.target"
   ]
  },
  {
   "cell_type": "code",
   "execution_count": 3,
   "metadata": {},
   "outputs": [],
   "source": [
    "from sklearn.model_selection import train_test_split\n",
    "\n",
    "x_train,x_test,y_train,y_test=train_test_split(X,Y,test_size=0.3)"
   ]
  },
  {
   "cell_type": "code",
   "execution_count": 4,
   "metadata": {},
   "outputs": [
    {
     "data": {
      "text/plain": [
       "LinearRegression(copy_X=True, fit_intercept=True, n_jobs=None, normalize=False)"
      ]
     },
     "execution_count": 4,
     "metadata": {},
     "output_type": "execute_result"
    }
   ],
   "source": [
    "from sklearn.linear_model import LinearRegression\n",
    "\n",
    "clf_lr = LinearRegression()\n",
    "clf_lr.fit(x_train,y_train)"
   ]
  },
  {
   "cell_type": "code",
   "execution_count": 6,
   "metadata": {},
   "outputs": [
    {
     "data": {
      "text/plain": [
       "<matplotlib.collections.PathCollection at 0x7f0fbdbe6be0>"
      ]
     },
     "execution_count": 6,
     "metadata": {},
     "output_type": "execute_result"
    },
    {
     "data": {
      "image/png": "[encoded data removed]",
      "text/plain": [
       "<Figure size 432x288 with 1 Axes>"
      ]
     },
     "metadata": {
      "needs_background": "light"
     },
     "output_type": "display_data"
    }
   ],
   "source": [
    "import seaborn as sns\n",
    "import matplotlib.pyplot as plt  \n",
    "\n",
    "predictions = clf_lr.predict(x_test)\n",
    "plt.scatter(y_test,predictions)"
   ]
  },
  {
   "cell_type": "code",
   "execution_count": 9,
   "metadata": {},
   "outputs": [
    {
     "data": {
      "text/html": [
       "<div>\n",
       "<style scoped>\n",
       "    .dataframe tbody tr th:only-of-type {\n",
       "        vertical-align: middle;\n",
       "    }\n",
       "\n",
       "    .dataframe tbody tr th {\n",
       "        vertical-align: top;\n",
       "    }\n",
       "\n",
       "    .dataframe thead th {\n",
       "        text-align: right;\n",
       "    }\n",
       "</style>\n",
       "<table border=\"1\" class=\"dataframe\">\n",
       "  <thead>\n",
       "    <tr style=\"text-align: right;\">\n",
       "      <th></th>\n",
       "      <th>Coefficient</th>\n",
       "    </tr>\n",
       "  </thead>\n",
       "  <tbody>\n",
       "    <tr>\n",
       "      <th>sepal length (cm)</th>\n",
       "      <td>-0.095747</td>\n",
       "    </tr>\n",
       "    <tr>\n",
       "      <th>sepal width (cm)</th>\n",
       "      <td>-0.076684</td>\n",
       "    </tr>\n",
       "    <tr>\n",
       "      <th>petal length (cm)</th>\n",
       "      <td>0.169781</td>\n",
       "    </tr>\n",
       "    <tr>\n",
       "      <th>petal width (cm)</th>\n",
       "      <td>0.719116</td>\n",
       "    </tr>\n",
       "  </tbody>\n",
       "</table>\n",
       "</div>"
      ],
      "text/plain": [
       "                   Coefficient\n",
       "sepal length (cm)    -0.095747\n",
       "sepal width (cm)     -0.076684\n",
       "petal length (cm)     0.169781\n",
       "petal width (cm)      0.719116"
      ]
     },
     "execution_count": 9,
     "metadata": {},
     "output_type": "execute_result"
    }
   ],
   "source": [
    "import pandas as pd\n",
    "\n",
    "coeff_df = pd.DataFrame(clf_lr.coef_,iris.feature_names,columns=['Coefficient'])\n",
    "coeff_df"
   ]
  },
  {
   "cell_type": "code",
   "execution_count": 38,
   "metadata": {},
   "outputs": [
    {
     "data": {
      "text/plain": [
       "0.3050594949786193"
      ]
     },
     "execution_count": 38,
     "metadata": {},
     "output_type": "execute_result"
    }
   ],
   "source": [
    "clf_lr.intercept_"
   ]
  },
  {
   "cell_type": "markdown",
   "metadata": {},
   "source": [
    "Uji coba dengan persamaan berikut :\n",
    "\n",
    "## $$ y = b_0 + b_1x_1 $$"
   ]
  },
  {
   "cell_type": "code",
   "execution_count": 28,
   "metadata": {},
   "outputs": [
    {
     "data": {
      "text/plain": [
       "numpy.float64"
      ]
     },
     "execution_count": 28,
     "metadata": {},
     "output_type": "execute_result"
    }
   ],
   "source": [
    "b_nol = clf_lr.intercept_\n",
    "b_satu = clf_lr.coef_[0]\n",
    "b_dua = clf_lr.coef_[1]\n",
    "b_tiga = clf_lr.coef_[2]\n",
    "b_empat = clf_lr.coef_[3]\n",
    "type(X[0][0])"
   ]
  },
  {
   "cell_type": "code",
   "execution_count": 49,
   "metadata": {},
   "outputs": [],
   "source": [
    "y_satu = []\n",
    "y_dua = []\n",
    "y_tiga = []\n",
    "y_empat = []\n",
    "y_tot = []\n",
    "count = 0\n",
    "for i in X:\n",
    "    y_satu.append(b_satu*i[0])\n",
    "    y_dua.append(b_dua*i[1])\n",
    "    y_tiga.append(b_tiga*i[2])\n",
    "    y_empat.append(b_empat*i[3])\n",
    "    y_tot.append(b_nol+y_satu[count]+y_dua[count]+y_tiga[count]+y_empat[count])\n",
    "    count +=1"
   ]
  },
  {
   "cell_type": "code",
   "execution_count": 47,
   "metadata": {},
   "outputs": [
    {
     "data": {
      "text/plain": [
       "array([[-7.01258032e-02,  0.00000000e+00],\n",
       "       [-1.26346171e-02,  0.00000000e+00],\n",
       "       [-2.58000487e-02,  0.00000000e+00],\n",
       "       [ 2.53992147e-02,  0.00000000e+00],\n",
       "       [-6.82194667e-02,  0.00000000e+00],\n",
       "       [ 6.52342618e-02,  0.00000000e+00],\n",
       "       [ 5.73276702e-02,  0.00000000e+00],\n",
       "       [-3.59046442e-02,  0.00000000e+00],\n",
       "       [ 4.29072193e-02,  0.00000000e+00],\n",
       "       [-7.52365087e-02,  0.00000000e+00],\n",
       "       [-9.72085031e-02,  0.00000000e+00],\n",
       "       [ 2.22851146e-04,  0.00000000e+00],\n",
       "       [-7.49715586e-02,  0.00000000e+00],\n",
       "       [-7.80323947e-02,  0.00000000e+00],\n",
       "       [-2.09446675e-01,  0.00000000e+00],\n",
       "       [-3.57878287e-02,  0.00000000e+00],\n",
       "       [-2.67815605e-03,  0.00000000e+00],\n",
       "       [ 1.78583388e-03,  0.00000000e+00],\n",
       "       [-2.77331026e-02,  0.00000000e+00],\n",
       "       [-4.24113878e-03,  0.00000000e+00],\n",
       "       [-4.02472171e-02,  0.00000000e+00],\n",
       "       [ 7.53388573e-02,  0.00000000e+00],\n",
       "       [-9.78331027e-02,  0.00000000e+00],\n",
       "       [ 2.11880139e-01,  0.00000000e+00],\n",
       "       [ 5.11571645e-02,  0.00000000e+00],\n",
       "       [ 1.17468964e-02,  0.00000000e+00],\n",
       "       [ 1.24896734e-01,  0.00000000e+00],\n",
       "       [-6.27223942e-02,  0.00000000e+00],\n",
       "       [-7.20321396e-02,  0.00000000e+00],\n",
       "       [ 2.51342647e-02,  0.00000000e+00],\n",
       "       [ 2.32279283e-02,  0.00000000e+00],\n",
       "       [ 6.96198480e-02,  0.00000000e+00],\n",
       "       [-1.80644185e-01,  0.00000000e+00],\n",
       "       [-1.62103098e-01,  0.00000000e+00],\n",
       "       [-3.32487164e-03,  0.00000000e+00],\n",
       "       [-7.15022395e-02,  0.00000000e+00],\n",
       "       [-1.25402689e-01,  0.00000000e+00],\n",
       "       [-1.30556408e-01,  0.00000000e+00],\n",
       "       [ 1.82607558e-02,  0.00000000e+00],\n",
       "       [-4.54793397e-02,  0.00000000e+00],\n",
       "       [-5.61757512e-03,  0.00000000e+00],\n",
       "       [ 1.34276211e-01,  0.00000000e+00],\n",
       "       [ 2.92403769e-03,  0.00000000e+00],\n",
       "       [ 2.61051649e-01,  0.00000000e+00],\n",
       "       [ 1.35582916e-01,  0.00000000e+00],\n",
       "       [ 6.88517154e-02,  0.00000000e+00],\n",
       "       [-5.91746714e-02,  0.00000000e+00],\n",
       "       [ 7.52751230e-04,  0.00000000e+00],\n",
       "       [-8.76338077e-02,  0.00000000e+00],\n",
       "       [-4.52143896e-02,  0.00000000e+00],\n",
       "       [ 1.19417715e+00,  1.00000000e+00],\n",
       "       [ 1.28958075e+00,  1.00000000e+00],\n",
       "       [ 1.31728805e+00,  1.00000000e+00],\n",
       "       [ 1.21605445e+00,  1.00000000e+00],\n",
       "       [ 1.32765760e+00,  1.00000000e+00],\n",
       "       [ 1.24345378e+00,  1.00000000e+00],\n",
       "       [ 1.39735493e+00,  1.00000000e+00],\n",
       "       [ 9.31252618e-01,  1.00000000e+00],\n",
       "       [ 1.16659127e+00,  1.00000000e+00],\n",
       "       [ 1.26903863e+00,  1.00000000e+00],\n",
       "       [ 9.86307568e-01,  1.00000000e+00],\n",
       "       [ 1.30185663e+00,  1.00000000e+00],\n",
       "       [ 9.60114417e-01,  1.00000000e+00],\n",
       "       [ 1.30335449e+00,  1.00000000e+00],\n",
       "       [ 1.09255718e+00,  1.00000000e+00],\n",
       "       [ 1.17963528e+00,  1.00000000e+00],\n",
       "       [ 1.38151503e+00,  1.00000000e+00],\n",
       "       [ 9.57900117e-01,  1.00000000e+00],\n",
       "       [ 1.38541373e+00,  1.00000000e+00],\n",
       "       [ 1.03034165e+00,  1.00000000e+00],\n",
       "       [ 1.60412345e+00,  1.00000000e+00],\n",
       "       [ 1.12026448e+00,  1.00000000e+00],\n",
       "       [ 1.42074638e+00,  1.00000000e+00],\n",
       "       [ 1.16719957e+00,  1.00000000e+00],\n",
       "       [ 1.13480635e+00,  1.00000000e+00],\n",
       "       [ 1.19687834e+00,  1.00000000e+00],\n",
       "       [ 1.26097808e+00,  1.00000000e+00],\n",
       "       [ 1.50490718e+00,  1.00000000e+00],\n",
       "       [ 1.35088461e+00,  1.00000000e+00],\n",
       "       [ 8.73274545e-01,  1.00000000e+00],\n",
       "       [ 1.03060660e+00,  1.00000000e+00],\n",
       "       [ 9.41716863e-01,  1.00000000e+00],\n",
       "       [ 1.06776718e+00,  1.00000000e+00],\n",
       "       [ 1.54000159e+00,  1.00000000e+00],\n",
       "       [ 1.40066443e+00,  1.00000000e+00],\n",
       "       [ 1.38445445e+00,  1.00000000e+00],\n",
       "       [ 1.30248123e+00,  1.00000000e+00],\n",
       "       [ 1.20736930e+00,  1.00000000e+00],\n",
       "       [ 1.16977934e+00,  1.00000000e+00],\n",
       "       [ 1.20071773e+00,  1.00000000e+00],\n",
       "       [ 1.18905015e+00,  1.00000000e+00],\n",
       "       [ 1.27870802e+00,  1.00000000e+00],\n",
       "       [ 1.09241365e+00,  1.00000000e+00],\n",
       "       [ 9.29346282e-01,  1.00000000e+00],\n",
       "       [ 1.20976252e+00,  1.00000000e+00],\n",
       "       [ 1.10527111e+00,  1.00000000e+00],\n",
       "       [ 1.18485111e+00,  1.00000000e+00],\n",
       "       [ 1.15395574e+00,  1.00000000e+00],\n",
       "       [ 9.25412192e-01,  1.00000000e+00],\n",
       "       [ 1.17554137e+00,  1.00000000e+00],\n",
       "       [ 2.26527503e+00,  2.00000000e+00],\n",
       "       [ 1.77488590e+00,  2.00000000e+00],\n",
       "       [ 1.90705789e+00,  2.00000000e+00],\n",
       "       [ 1.72465459e+00,  2.00000000e+00],\n",
       "       [ 2.01943959e+00,  2.00000000e+00],\n",
       "       [ 1.97803114e+00,  2.00000000e+00],\n",
       "       [ 1.63070297e+00,  2.00000000e+00],\n",
       "       [ 1.74775436e+00,  2.00000000e+00],\n",
       "       [ 1.75098545e+00,  2.00000000e+00],\n",
       "       [ 2.17307579e+00,  2.00000000e+00],\n",
       "       [ 1.74143287e+00,  2.00000000e+00],\n",
       "       [ 1.75139393e+00,  2.00000000e+00],\n",
       "       [ 1.86786956e+00,  2.00000000e+00],\n",
       "       [ 1.85473084e+00,  2.00000000e+00],\n",
       "       [ 2.12677572e+00,  2.00000000e+00],\n",
       "       [ 2.00069868e+00,  2.00000000e+00],\n",
       "       [ 1.68085873e+00,  2.00000000e+00],\n",
       "       [ 1.99599931e+00,  2.00000000e+00],\n",
       "       [ 2.19388747e+00,  2.00000000e+00],\n",
       "       [ 1.48945365e+00,  2.00000000e+00],\n",
       "       [ 2.02073763e+00,  2.00000000e+00],\n",
       "       [ 1.82432236e+00,  2.00000000e+00],\n",
       "       [ 1.92885963e+00,  2.00000000e+00],\n",
       "       [ 1.62114457e+00,  2.00000000e+00],\n",
       "       [ 1.88839538e+00,  2.00000000e+00],\n",
       "       [ 1.68338967e+00,  2.00000000e+00],\n",
       "       [ 1.60607280e+00,  2.00000000e+00],\n",
       "       [ 1.61728889e+00,  2.00000000e+00],\n",
       "       [ 1.93848316e+00,  2.00000000e+00],\n",
       "       [ 1.52094690e+00,  2.00000000e+00],\n",
       "       [ 1.78380345e+00,  2.00000000e+00],\n",
       "       [ 1.78209234e+00,  2.00000000e+00],\n",
       "       [ 2.01039480e+00,  2.00000000e+00],\n",
       "       [ 1.43169751e+00,  2.00000000e+00],\n",
       "       [ 1.47916251e+00,  2.00000000e+00],\n",
       "       [ 2.02738920e+00,  2.00000000e+00],\n",
       "       [ 2.11778261e+00,  2.00000000e+00],\n",
       "       [ 1.68276507e+00,  2.00000000e+00],\n",
       "       [ 1.60988548e+00,  2.00000000e+00],\n",
       "       [ 1.83364840e+00,  2.00000000e+00],\n",
       "       [ 2.10248891e+00,  2.00000000e+00],\n",
       "       [ 1.92653736e+00,  2.00000000e+00],\n",
       "       [ 1.77488590e+00,  2.00000000e+00],\n",
       "       [ 2.06426853e+00,  2.00000000e+00],\n",
       "       [ 2.17604193e+00,  2.00000000e+00],\n",
       "       [ 1.97033321e+00,  2.00000000e+00],\n",
       "       [ 1.72537103e+00,  2.00000000e+00],\n",
       "       [ 1.77374769e+00,  2.00000000e+00],\n",
       "       [ 2.02148946e+00,  2.00000000e+00],\n",
       "       [ 1.67039449e+00,  2.00000000e+00]])"
      ]
     },
     "execution_count": 47,
     "metadata": {},
     "output_type": "execute_result"
    }
   ],
   "source": [
    "import numpy as np\n",
    "\n",
    "np.c_[y_tot, iris.target]"
   ]
  },
  {
   "cell_type": "code",
   "execution_count": 34,
   "metadata": {},
   "outputs": [
    {
     "ename": "NameError",
     "evalue": "name 'np' is not defined",
     "output_type": "error",
     "traceback": [
      "\u001b[0;31m---------------------------------------------------------------------------\u001b[0m",
      "\u001b[0;31mNameError\u001b[0m                                 Traceback (most recent call last)",
      "\u001b[0;32m<ipython-input-34-341c5d04d2fa>\u001b[0m in \u001b[0;36m<module>\u001b[0;34m\u001b[0m\n\u001b[0;32m----> 1\u001b[0;31m \u001b[0mnp\u001b[0m\u001b[0;34m.\u001b[0m\u001b[0mc_\u001b[0m\u001b[0;34m[\u001b[0m\u001b[0miris\u001b[0m\u001b[0;34m.\u001b[0m\u001b[0mdata\u001b[0m\u001b[0;34m,\u001b[0m \u001b[0miris\u001b[0m\u001b[0;34m.\u001b[0m\u001b[0mtarget\u001b[0m\u001b[0;34m]\u001b[0m\u001b[0;34m\u001b[0m\u001b[0;34m\u001b[0m\u001b[0m\n\u001b[0m",
      "\u001b[0;31mNameError\u001b[0m: name 'np' is not defined"
     ]
    }
   ],
   "source": []
  },
  {
   "cell_type": "code",
   "execution_count": null,
   "metadata": {},
   "outputs": [],
   "source": [
    "data = pd.DataFrame(data= np.c_[iris.data, iris.target],\n",
    "                     columns= iris['feature_names'] + ['target'])"
   ]
  }
 ],
 "metadata": {
  "kernelspec": {
   "display_name": "Python 3",
   "language": "python",
   "name": "python3"
  },
  "language_info": {
   "codemirror_mode": {
    "name": "ipython",
    "version": 3
   },
   "file_extension": ".py",
   "mimetype": "text/x-python",
   "name": "python",
   "nbconvert_exporter": "python",
   "pygments_lexer": "ipython3",
   "version": "3.6.9"
  }
 },
 "nbformat": 4,
 "nbformat_minor": 4
}
