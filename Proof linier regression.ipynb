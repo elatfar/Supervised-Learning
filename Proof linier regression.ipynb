{
 "cells": [
  {
   "cell_type": "code",
   "execution_count": 1,
   "metadata": {},
   "outputs": [],
   "source": [
    "from sklearn import datasets\n",
    "\n",
    "iris = datasets.load_iris()\n",
    "X = iris.data\n",
    "Y = iris.target"
   ]
  },
  {
   "cell_type": "code",
   "execution_count": 3,
   "metadata": {},
   "outputs": [],
   "source": [
    "from sklearn.model_selection import train_test_split\n",
    "\n",
    "x_train,x_test,y_train,y_test=train_test_split(X,Y,test_size=0.3)"
   ]
  },
  {
   "cell_type": "code",
   "execution_count": 4,
   "metadata": {},
   "outputs": [
    {
     "data": {
      "text/plain": [
       "LinearRegression(copy_X=True, fit_intercept=True, n_jobs=None, normalize=False)"
      ]
     },
     "execution_count": 4,
     "metadata": {},
     "output_type": "execute_result"
    }
   ],
   "source": [
    "from sklearn.linear_model import LinearRegression\n",
    "\n",
    "clf_lr = LinearRegression()\n",
    "clf_lr.fit(x_train,y_train)"
   ]
  },
  {
   "cell_type": "code",
   "execution_count": 6,
   "metadata": {},
   "outputs": [
    {
     "data": {
      "text/plain": [
       "<matplotlib.collections.PathCollection at 0x7f0fbdbe6be0>"
      ]
     },
     "execution_count": 6,
     "metadata": {},
     "output_type": "execute_result"
    },
    {
     "data": {
      "image/png": "[encoded data removed]",
      "text/plain": [
       "<Figure size 432x288 with 1 Axes>"
      ]
     },
     "metadata": {
      "needs_background": "light"
     },
     "output_type": "display_data"
    }
   ],
   "source": [
    "import seaborn as sns\n",
    "import matplotlib.pyplot as plt  \n",
    "\n",
    "predictions = clf_lr.predict(x_test)\n",
    "plt.scatter(y_test,predictions)"
   ]
  },
  {
   "cell_type": "code",
   "execution_count": 9,
   "metadata": {},
   "outputs": [
    {
     "data": {
      "text/html": [
       "<div>\n",
       "<style scoped>\n",
       "    .dataframe tbody tr th:only-of-type {\n",
       "        vertical-align: middle;\n",
       "    }\n",
       "\n",
       "    .dataframe tbody tr th {\n",
       "        vertical-align: top;\n",
       "    }\n",
       "\n",
       "    .dataframe thead th {\n",
       "        text-align: right;\n",
       "    }\n",
       "</style>\n",
       "<table border=\"1\" class=\"dataframe\">\n",
       "  <thead>\n",
       "    <tr style=\"text-align: right;\">\n",
       "      <th></th>\n",
       "      <th>Coefficient</th>\n",
       "    </tr>\n",
       "  </thead>\n",
       "  <tbody>\n",
       "    <tr>\n",
       "      <th>sepal length (cm)</th>\n",
       "      <td>-0.095747</td>\n",
       "    </tr>\n",
       "    <tr>\n",
       "      <th>sepal width (cm)</th>\n",
       "      <td>-0.076684</td>\n",
       "    </tr>\n",
       "    <tr>\n",
       "      <th>petal length (cm)</th>\n",
       "      <td>0.169781</td>\n",
       "    </tr>\n",
       "    <tr>\n",
       "      <th>petal width (cm)</th>\n",
       "      <td>0.719116</td>\n",
       "    </tr>\n",
       "  </tbody>\n",
       "</table>\n",
       "</div>"
      ],
      "text/plain": [
       "                   Coefficient\n",
       "sepal length (cm)    -0.095747\n",
       "sepal width (cm)     -0.076684\n",
       "petal length (cm)     0.169781\n",
       "petal width (cm)      0.719116"
      ]
     },
     "execution_count": 9,
     "metadata": {},
     "output_type": "execute_result"
    }
   ],
   "source": [
    "import pandas as pd\n",
    "\n",
    "coeff_df = pd.DataFrame(clf_lr.coef_,iris.feature_names,columns=['Coefficient'])\n",
    "coeff_df"
   ]
  },
  {
   "cell_type": "code",
   "execution_count": 38,
   "metadata": {},
   "outputs": [
    {
     "data": {
      "text/plain": [
       "0.3050594949786193"
      ]
     },
     "execution_count": 38,
     "metadata": {},
     "output_type": "execute_result"
    }
   ],
   "source": [
    "clf_lr.intercept_"
   ]
  },
  {
   "cell_type": "markdown",
   "metadata": {},
   "source": [
    "Uji coba dengan persamaan berikut :\n",
    "\n",
    "## $$ y = b_0 + b_1x_1 $$"
   ]
  },
  {
   "cell_type": "code",
   "execution_count": 28,
   "metadata": {},
   "outputs": [
    {
     "data": {
      "text/plain": [
       "numpy.float64"
      ]
     },
     "execution_count": 28,
     "metadata": {},
     "output_type": "execute_result"
    }
   ],
   "source": [
    "b_nol = clf_lr.intercept_\n",
    "b_satu = clf_lr.coef_[0]\n",
    "b_dua = clf_lr.coef_[1]\n",
    "b_tiga = clf_lr.coef_[2]\n",
    "b_empat = clf_lr.coef_[3]\n",
    "type(X[0][0])"
   ]
  },
  {
   "cell_type": "code",
   "execution_count": 64,
   "metadata": {},
   "outputs": [],
   "source": [
    "x_satu = []\n",
    "x_dua = []\n",
    "x_tiga = []\n",
    "x_empat = []\n",
    "y_result = []\n",
    "count = 0\n",
    "for i in X:\n",
    "    x_satu.append(abs(b_nol+(b_satu*i[0])))\n",
    "    x_dua.append(abs(b_nol+(b_dua*i[1])))\n",
    "    x_tiga.append(abs(b_nol+(b_tiga*i[2])))\n",
    "    x_empat.append(abs(b_nol+(b_empat*i[3])))\n",
    "    y_result.append(x_satu[count]+x_dua[count]+x_tiga[count]+x_empat[count])\n",
    "    count +=1"
   ]
  },
  {
   "cell_type": "code",
   "execution_count": 65,
   "metadata": {},
   "outputs": [
    {
     "data": {
      "text/plain": [
       "array([[1.21155263, 0.        ],\n",
       "       [1.23074503, 0.        ],\n",
       "       [1.17928082, 0.        ],\n",
       "       [1.21133069, 0.        ],\n",
       "       [1.19430957, 0.        ],\n",
       "       [1.40436087, 0.        ],\n",
       "       [1.24325915, 0.        ],\n",
       "       [1.2266244 , 0.        ],\n",
       "       [1.19053991, 0.        ],\n",
       "       [1.16814314, 0.        ],\n",
       "       [1.2419181 , 0.        ],\n",
       "       [1.22445311, 0.        ],\n",
       "       [1.1492587 , 0.        ],\n",
       "       [1.05045091, 0.        ],\n",
       "       [1.20962723, 0.        ],\n",
       "       [1.42548355, 0.        ],\n",
       "       [1.33644845, 0.        ],\n",
       "       [1.28346427, 0.        ],\n",
       "       [1.36884167, 0.        ],\n",
       "       [1.27743729, 0.        ],\n",
       "       [1.29887939, 0.        ],\n",
       "       [1.35701729, 0.        ],\n",
       "       [1.08809837, 0.        ],\n",
       "       [1.49355857, 0.        ],\n",
       "       [1.27538742, 0.        ],\n",
       "       [1.27427594, 0.        ],\n",
       "       [1.38742577, 0.        ],\n",
       "       [1.23810543, 0.        ],\n",
       "       [1.22879568, 0.        ],\n",
       "       [1.23021513, 0.        ],\n",
       "       [1.24745819, 0.        ],\n",
       "       [1.40874645, 0.        ],\n",
       "       [1.13887009, 0.        ],\n",
       "       [1.23019607, 0.        ],\n",
       "       [1.24005478, 0.        ],\n",
       "       [1.1910268 , 0.        ],\n",
       "       [1.23287331, 0.        ],\n",
       "       [1.11282324, 0.        ],\n",
       "       [1.16589345, 0.        ],\n",
       "       [1.23619909, 0.        ],\n",
       "       [1.25691147, 0.        ],\n",
       "       [1.3010583 , 0.        ],\n",
       "       [1.15055673, 0.        ],\n",
       "       [1.52358069, 0.        ],\n",
       "       [1.41726135, 0.        ],\n",
       "       [1.29308197, 0.        ],\n",
       "       [1.22250376, 0.        ],\n",
       "       [1.18668423, 0.        ],\n",
       "       [1.23234341, 0.        ],\n",
       "       [1.21731465, 0.        ],\n",
       "       [2.83969401, 1.        ],\n",
       "       [2.82020127, 1.        ],\n",
       "       [2.94365552, 1.        ],\n",
       "       [2.57433044, 1.        ],\n",
       "       [2.8774275 , 1.        ],\n",
       "       [2.64002856, 1.        ],\n",
       "       [2.90882606, 1.        ],\n",
       "       [2.17463227, 1.        ],\n",
       "       [2.73551056, 1.        ],\n",
       "       [2.56986645, 1.        ],\n",
       "       [2.24883661, 1.        ],\n",
       "       [2.73673019, 1.        ],\n",
       "       [2.41413737, 1.        ],\n",
       "       [2.77652683, 1.        ],\n",
       "       [2.46998257, 1.        ],\n",
       "       [2.76770397, 1.        ],\n",
       "       [2.75894042, 1.        ],\n",
       "       [2.37362429, 1.        ],\n",
       "       [2.87773547, 1.        ],\n",
       "       [2.40776704, 1.        ],\n",
       "       [3.03899701, 1.        ],\n",
       "       [2.59343682, 1.        ],\n",
       "       [2.9322175 , 1.        ],\n",
       "       [2.64037191, 1.        ],\n",
       "       [2.66542686, 1.        ],\n",
       "       [2.76579763, 1.        ],\n",
       "       [2.86819616, 1.        ],\n",
       "       [3.09297587, 1.        ],\n",
       "       [2.80490756, 1.        ],\n",
       "       [2.26984932, 1.        ],\n",
       "       [2.3888826 , 1.        ],\n",
       "       [2.29999286, 1.        ],\n",
       "       [2.48349135, 1.        ],\n",
       "       [2.99402454, 1.        ],\n",
       "       [2.73979103, 1.        ],\n",
       "       [2.8384774 , 1.        ],\n",
       "       [2.89054992, 1.        ],\n",
       "       [2.71884042, 1.        ],\n",
       "       [2.54720473, 1.        ],\n",
       "       [2.55899372, 1.        ],\n",
       "       [2.54732615, 1.        ],\n",
       "       [2.75188036, 1.        ],\n",
       "       [2.50813781, 1.        ],\n",
       "       [2.19187532, 1.        ],\n",
       "       [2.58718791, 1.        ],\n",
       "       [2.50184589, 1.        ],\n",
       "       [2.58142589, 1.        ],\n",
       "       [2.64627747, 1.        ],\n",
       "       [2.20709062, 1.        ],\n",
       "       [2.57211614, 1.        ],\n",
       "       [3.77674615, 2.        ],\n",
       "       [3.19061006, 2.        ],\n",
       "       [3.57172414, 2.        ],\n",
       "       [3.23612571, 2.        ],\n",
       "       [3.5692095 , 2.        ],\n",
       "       [3.73844434, 2.        ],\n",
       "       [2.87408262, 2.        ],\n",
       "       [3.45071939, 2.        ],\n",
       "       [3.33905413, 2.        ],\n",
       "       [3.85689143, 2.        ],\n",
       "       [3.29120277, 2.        ],\n",
       "       [3.28201444, 2.        ],\n",
       "       [3.47508763, 2.        ],\n",
       "       [3.25130562, 2.        ],\n",
       "       [3.54249989, 2.        ],\n",
       "       [3.5313192 , 2.        ],\n",
       "       [3.23062863, 2.        ],\n",
       "       [3.77556191, 2.        ],\n",
       "       [3.97345006, 2.        ],\n",
       "       [2.9434766 , 2.        ],\n",
       "       [3.64710509, 2.        ],\n",
       "       [3.20174774, 2.        ],\n",
       "       [3.70842223, 2.        ],\n",
       "       [3.13261569, 2.        ],\n",
       "       [3.47646407, 2.        ],\n",
       "       [3.36720531, 2.        ],\n",
       "       [3.09839454, 2.        ],\n",
       "       [3.09046123, 2.        ],\n",
       "       [3.46910367, 2.        ],\n",
       "       [3.20476254, 2.        ],\n",
       "       [3.50591788, 2.        ],\n",
       "       [3.59995371, 2.        ],\n",
       "       [3.54101531, 2.        ],\n",
       "       [2.94316863, 2.        ],\n",
       "       [2.95233485, 2.        ],\n",
       "       [3.80695179, 2.        ],\n",
       "       [3.62925373, 2.        ],\n",
       "       [3.21338558, 2.        ],\n",
       "       [3.06390843, 2.        ],\n",
       "       [3.46001586, 2.        ],\n",
       "       [3.69055759, 2.        ],\n",
       "       [3.55290483, 2.        ],\n",
       "       [3.19061006, 2.        ],\n",
       "       [3.67148661, 2.        ],\n",
       "       [3.76411062, 2.        ],\n",
       "       [3.5584019 , 2.        ],\n",
       "       [3.23684215, 2.        ],\n",
       "       [3.3235176 , 2.        ],\n",
       "       [3.51381119, 2.        ],\n",
       "       [3.10526804, 2.        ]])"
      ]
     },
     "execution_count": 65,
     "metadata": {},
     "output_type": "execute_result"
    }
   ],
   "source": [
    "import numpy as np\n",
    "\n",
    "np.c_[y_tot, iris.target]"
   ]
  },
  {
   "cell_type": "code",
   "execution_count": 68,
   "metadata": {},
   "outputs": [
    {
     "data": {
      "text/html": [
       "<div>\n",
       "<style scoped>\n",
       "    .dataframe tbody tr th:only-of-type {\n",
       "        vertical-align: middle;\n",
       "    }\n",
       "\n",
       "    .dataframe tbody tr th {\n",
       "        vertical-align: top;\n",
       "    }\n",
       "\n",
       "    .dataframe thead th {\n",
       "        text-align: right;\n",
       "    }\n",
       "</style>\n",
       "<table border=\"1\" class=\"dataframe\">\n",
       "  <thead>\n",
       "    <tr style=\"text-align: right;\">\n",
       "      <th></th>\n",
       "      <th>X1</th>\n",
       "      <th>X2</th>\n",
       "      <th>X3</th>\n",
       "      <th>X4</th>\n",
       "      <th>Y</th>\n",
       "      <th>CLASS</th>\n",
       "    </tr>\n",
       "  </thead>\n",
       "  <tbody>\n",
       "    <tr>\n",
       "      <th>0</th>\n",
       "      <td>0.183250</td>\n",
       "      <td>0.036667</td>\n",
       "      <td>0.542753</td>\n",
       "      <td>0.448883</td>\n",
       "      <td>1.211553</td>\n",
       "      <td>0.0</td>\n",
       "    </tr>\n",
       "    <tr>\n",
       "      <th>1</th>\n",
       "      <td>0.164101</td>\n",
       "      <td>0.075009</td>\n",
       "      <td>0.542753</td>\n",
       "      <td>0.448883</td>\n",
       "      <td>1.230745</td>\n",
       "      <td>0.0</td>\n",
       "    </tr>\n",
       "    <tr>\n",
       "      <th>2</th>\n",
       "      <td>0.144951</td>\n",
       "      <td>0.059672</td>\n",
       "      <td>0.525775</td>\n",
       "      <td>0.448883</td>\n",
       "      <td>1.179281</td>\n",
       "      <td>0.0</td>\n",
       "    </tr>\n",
       "    <tr>\n",
       "      <th>3</th>\n",
       "      <td>0.135376</td>\n",
       "      <td>0.067340</td>\n",
       "      <td>0.559731</td>\n",
       "      <td>0.448883</td>\n",
       "      <td>1.211331</td>\n",
       "      <td>0.0</td>\n",
       "    </tr>\n",
       "    <tr>\n",
       "      <th>4</th>\n",
       "      <td>0.173675</td>\n",
       "      <td>0.028999</td>\n",
       "      <td>0.542753</td>\n",
       "      <td>0.448883</td>\n",
       "      <td>1.194310</td>\n",
       "      <td>0.0</td>\n",
       "    </tr>\n",
       "  </tbody>\n",
       "</table>\n",
       "</div>"
      ],
      "text/plain": [
       "         X1        X2        X3        X4         Y  CLASS\n",
       "0  0.183250  0.036667  0.542753  0.448883  1.211553    0.0\n",
       "1  0.164101  0.075009  0.542753  0.448883  1.230745    0.0\n",
       "2  0.144951  0.059672  0.525775  0.448883  1.179281    0.0\n",
       "3  0.135376  0.067340  0.559731  0.448883  1.211331    0.0\n",
       "4  0.173675  0.028999  0.542753  0.448883  1.194310    0.0"
      ]
     },
     "execution_count": 68,
     "metadata": {},
     "output_type": "execute_result"
    }
   ],
   "source": [
    "df_prf = pd.DataFrame(data=np.c_[x_satu,x_dua,x_tiga,x_empat,y_result,iris.target],\n",
    "                     columns=['X1','X2','X3','X4','Y','CLASS'])\n",
    "\n",
    "df_prf.head()"
   ]
  },
  {
   "cell_type": "code",
   "execution_count": null,
   "metadata": {},
   "outputs": [],
   "source": []
  }
 ],
 "metadata": {
  "kernelspec": {
   "display_name": "Python 3",
   "language": "python",
   "name": "python3"
  },
  "language_info": {
   "codemirror_mode": {
    "name": "ipython",
    "version": 3
   },
   "file_extension": ".py",
   "mimetype": "text/x-python",
   "name": "python",
   "nbconvert_exporter": "python",
   "pygments_lexer": "ipython3",
   "version": "3.6.9"
  }
 },
 "nbformat": 4,
 "nbformat_minor": 4
}
